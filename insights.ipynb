{
 "cells": [
  {
   "cell_type": "markdown",
   "id": "2290f295",
   "metadata": {},
   "source": [
    "# Summary"
   ]
  },
  {
   "cell_type": "code",
   "execution_count": null,
   "id": "d6918d5d",
   "metadata": {},
   "outputs": [],
   "source": [
    "\"\"\"\n",
    "Led a comprehensive Zomato restaurants analysis across 15 countries (9,551 restaurants), revealing India as the dominant market (8,652 listings) and identifying high-growth opportunities in underrepresented regions.\n",
    "\n",
    "Assessed digital adoption trends, showing only 25% of venues offer online delivery and 12% support table booking—highlighting critical areas for platform feature expansion.\n",
    "\n",
    "Conducted RFM-style rating segmentation into 1–2, 2–3, 3–4, and 4–5 buckets, uncovering that most restaurants cluster in the mid-range (3–4 stars) with only 12% at top-tier ratings.\n",
    "\n",
    "Mapped cuisine concentration, pinpointing North Indian and Chinese as the most prevalent segments, and flagged Italian and Continental as high-potential growth areas based on strong satisfaction scores.\n",
    "\n",
    "Evaluated city-level performance: New Delhi, Gurgaon, and Noida lead in density, while smaller markets (Ahmedabad, Chennai, Jaipur) deliver comparable ratings with low competition—ideal for targeted expansion.\n",
    "\n",
    "Benchmarked major chains, identifying Domino’s Pizza (3.36 average) as the top performer and “hidden gems” (Green Chick Chop, Subway) with above-average ratings despite low visibility, guiding promotional strategies.\n",
    "\n",
    "Analyzed pricing vs. satisfaction, finding mid-range cost structures yield the highest customer ratings, and recommended value-focused menu adjustments to maximize perceived quality.\n",
    "\n",
    "\n",
    "\"\"\""
   ]
  },
  {
   "cell_type": "markdown",
   "id": "b59992e1",
   "metadata": {},
   "source": [
    "# Detailed Insights of Zomato Restaurants in India"
   ]
  },
  {
   "cell_type": "code",
   "execution_count": 1,
   "id": "48b4d686",
   "metadata": {},
   "outputs": [
    {
     "data": {
      "text/plain": [
       "'\\nCity-wise Performance\\nNew Delhi leads with 5,473 listings due to its massive population density, high tourist footfall, and well-developed dining infrastructure. Gurgaon (1,118) and Noida (1,080) follow, driven by large IT and corporate hubs that attract frequent business-lunch and delivery orders. Noida’s slightly higher chain ratings (Domino’s 3.36 vs. Gurgaon’s 3.20) may reflect newer, better-maintained outlets and more stringent quality controls in its rapidly expanding retail developments. Smaller cities such as Ahmedabad (21), Chennai (20), and Jaipur (20) are currently underserved but sustain ratings comparable to larger metros—likely because fewer outlets compete on quality, leading to consistent service standards. These markets present expansion opportunities where supply is low and demand can be cultivated via targeted partnerships and promotions.\\n\\nCuisine Trends\\nNorth Indian (3,960) and Chinese (2,735) dominate listings because they appeal broadly to local palates, offer scalable service models, and benefit from robust supply chains for staple ingredients. Fast-food chains—Domino’s (3.36) and Subway (2.81)—outperform localized Mughlai outlets (~2.90) due to standardized recipes, rigorous franchise training, and strong brand recognition that ensure uniform taste and hygiene. Italian (764) and Continental (736) cuisines, while mid-density, deliver higher average ratings thanks to perceived novelty, higher price-point expectations, and strong emphasis on ingredient quality and ambiance. These segments are ripe for growth, as rising urban incomes and evolving consumer tastes drive demand for international flavors.\\n\\nPricing vs. Ratings\\nMid-range pricing outperforms both budget and premium tiers because it hits the “sweet spot” of perceived value—customers feel they receive good quality without paying luxury-level prices. Domino’s, as a mid-tier chain, achieves the highest average rating (3.36) by balancing cost, convenience, and consistent taste. Budget operators like Café Coffee Day (2.61), despite high footfall, struggle with thin margins that may limit investment in experience and ingredients. Premium segments, while offering gourmet offerings, see ratings dip below 3.0 when review volumes exceed 1,000, possibly due to heightened customer expectations and inconsistency across individual outlets. Optimal pricing zones therefore lie in mid-market offerings that couple reliability with affordability.\\n\\nQuality and Visibility\\nHidden gems—Green Chick Chop (2.94) and Subway (2.81)—maintain near-3.0 ratings despite modest review counts (~3 outlets each), suggesting strong localized appeal and consistent service; they warrant promotional support to widen customer awareness. Risk areas like Café Coffee Day (2.61, >1 M votes) and McDonald’s (2.80, high volume) show that scale does not guarantee quality: high visibility exposes service lapses and menu fatigue. Both chains would benefit from targeted quality interventions—revisiting core menu standards, refreshing store interiors, and re-training staff—to elevate ratings above the 3.0 threshold and safeguard brand reputation.\\n'"
      ]
     },
     "execution_count": 1,
     "metadata": {},
     "output_type": "execute_result"
    }
   ],
   "source": [
    "\"\"\"\n",
    "City-wise Performance\n",
    "New Delhi leads with 5,473 listings due to its massive population density, high tourist footfall, and well-developed dining infrastructure. Gurgaon (1,118) and Noida (1,080) follow, driven by large IT and corporate hubs that attract frequent business-lunch and delivery orders. Noida’s slightly higher chain ratings (Domino’s 3.36 vs. Gurgaon’s 3.20) may reflect newer, better-maintained outlets and more stringent quality controls in its rapidly expanding retail developments. Smaller cities such as Ahmedabad (21), Chennai (20), and Jaipur (20) are currently underserved but sustain ratings comparable to larger metros—likely because fewer outlets compete on quality, leading to consistent service standards. These markets present expansion opportunities where supply is low and demand can be cultivated via targeted partnerships and promotions.\n",
    "\n",
    "Cuisine Trends\n",
    "North Indian (3,960) and Chinese (2,735) dominate listings because they appeal broadly to local palates, offer scalable service models, and benefit from robust supply chains for staple ingredients. Fast-food chains—Domino’s (3.36) and Subway (2.81)—outperform localized Mughlai outlets (~2.90) due to standardized recipes, rigorous franchise training, and strong brand recognition that ensure uniform taste and hygiene. Italian (764) and Continental (736) cuisines, while mid-density, deliver higher average ratings thanks to perceived novelty, higher price-point expectations, and strong emphasis on ingredient quality and ambiance. These segments are ripe for growth, as rising urban incomes and evolving consumer tastes drive demand for international flavors.\n",
    "\n",
    "Pricing vs. Ratings\n",
    "Mid-range pricing outperforms both budget and premium tiers because it hits the “sweet spot” of perceived value—customers feel they receive good quality without paying luxury-level prices. Domino’s, as a mid-tier chain, achieves the highest average rating (3.36) by balancing cost, convenience, and consistent taste. Budget operators like Café Coffee Day (2.61), despite high footfall, struggle with thin margins that may limit investment in experience and ingredients. Premium segments, while offering gourmet offerings, see ratings dip below 3.0 when review volumes exceed 1,000, possibly due to heightened customer expectations and inconsistency across individual outlets. Optimal pricing zones therefore lie in mid-market offerings that couple reliability with affordability.\n",
    "\n",
    "Quality and Visibility\n",
    "Hidden gems—Green Chick Chop (2.94) and Subway (2.81)—maintain near-3.0 ratings despite modest review counts (~3 outlets each), suggesting strong localized appeal and consistent service; they warrant promotional support to widen customer awareness. Risk areas like Café Coffee Day (2.61, >1 M votes) and McDonald’s (2.80, high volume) show that scale does not guarantee quality: high visibility exposes service lapses and menu fatigue. Both chains would benefit from targeted quality interventions—revisiting core menu standards, refreshing store interiors, and re-training staff—to elevate ratings above the 3.0 threshold and safeguard brand reputation.\n",
    "\"\"\""
   ]
  }
 ],
 "metadata": {
  "kernelspec": {
   "display_name": "Python 3",
   "language": "python",
   "name": "python3"
  },
  "language_info": {
   "codemirror_mode": {
    "name": "ipython",
    "version": 3
   },
   "file_extension": ".py",
   "mimetype": "text/x-python",
   "name": "python",
   "nbconvert_exporter": "python",
   "pygments_lexer": "ipython3",
   "version": "3.13.5"
  }
 },
 "nbformat": 4,
 "nbformat_minor": 5
}
